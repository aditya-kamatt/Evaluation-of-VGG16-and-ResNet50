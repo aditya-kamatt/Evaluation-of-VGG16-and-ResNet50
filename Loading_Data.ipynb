{
  "cells": [
    {
      "cell_type": "markdown",
      "metadata": {
        "id": "87106c1b-1418-4ad1-a01c-570d709edd47"
      },
      "source": [
        "<h2>Loading Data</h2>\n"
      ]
    },
    {
      "cell_type": "markdown",
      "metadata": {
        "id": "68b18e67-5782-4d1a-99f0-d6914108aff2"
      },
      "source": [
        "## Import Libraries and Packages\n"
      ]
    },
    {
      "cell_type": "code",
      "metadata": {
        "colab": {
          "base_uri": "https://localhost:8080/",
          "height": 383
        },
        "collapsed": true,
        "id": "12bc679b-2500-4095-a0e6-54b055da2b63",
        "outputId": "d40a0b19-7c59-4445-ab8d-f9206f98c9e8"
      },
      "outputs": [
        {
          "output_type": "error",
          "ename": "ModuleNotFoundError",
          "evalue": "No module named 'skillsnetwork'",
          "traceback": [
            "\u001b[0;31m---------------------------------------------------------------------------\u001b[0m",
            "\u001b[0;31mModuleNotFoundError\u001b[0m                       Traceback (most recent call last)",
            "\u001b[0;32m<ipython-input-1-161cffd3c983>\u001b[0m in \u001b[0;36m<cell line: 4>\u001b[0;34m()\u001b[0m\n\u001b[1;32m      2\u001b[0m \u001b[0;32mimport\u001b[0m \u001b[0mnumpy\u001b[0m \u001b[0;32mas\u001b[0m \u001b[0mnp\u001b[0m\u001b[0;34m\u001b[0m\u001b[0;34m\u001b[0m\u001b[0m\n\u001b[1;32m      3\u001b[0m \u001b[0;32mimport\u001b[0m \u001b[0mmatplotlib\u001b[0m\u001b[0;34m.\u001b[0m\u001b[0mpyplot\u001b[0m \u001b[0;32mas\u001b[0m \u001b[0mplt\u001b[0m\u001b[0;34m\u001b[0m\u001b[0;34m\u001b[0m\u001b[0m\n\u001b[0;32m----> 4\u001b[0;31m \u001b[0;32mimport\u001b[0m \u001b[0mskillsnetwork\u001b[0m\u001b[0;34m\u001b[0m\u001b[0;34m\u001b[0m\u001b[0m\n\u001b[0m\u001b[1;32m      5\u001b[0m \u001b[0;34m\u001b[0m\u001b[0m\n\u001b[1;32m      6\u001b[0m \u001b[0;32mfrom\u001b[0m \u001b[0mPIL\u001b[0m \u001b[0;32mimport\u001b[0m \u001b[0mImage\u001b[0m\u001b[0;34m\u001b[0m\u001b[0;34m\u001b[0m\u001b[0m\n",
            "\u001b[0;31mModuleNotFoundError\u001b[0m: No module named 'skillsnetwork'",
            "",
            "\u001b[0;31m---------------------------------------------------------------------------\u001b[0;32m\nNOTE: If your import is failing due to a missing package, you can\nmanually install dependencies using either !pip or !apt.\n\nTo view examples of installing some common dependencies, click the\n\"Open Examples\" button below.\n\u001b[0;31m---------------------------------------------------------------------------\u001b[0m\n"
          ],
          "errorDetails": {
            "actions": [
              {
                "action": "open_url",
                "actionText": "Open Examples",
                "url": "/notebooks/snippets/importing_libraries.ipynb"
              }
            ]
          }
        }
      ],
      "source": [
        "import os\n",
        "import numpy as np\n",
        "import matplotlib.pyplot as plt\n",
        "import skillsnetwork\n",
        "\n",
        "from PIL import Image"
      ],
      "execution_count": 1
    },
    {
      "cell_type": "markdown",
      "metadata": {
        "id": "db4d9ba0-da1d-4b04-9aa9-a59abf9d4f3e"
      },
      "source": [
        "## Download Data\n"
      ]
    },
    {
      "cell_type": "code",
      "metadata": {
        "id": "9bd54457-1c4a-4ab5-85bf-5e991f3ba82f"
      },
      "outputs": [],
      "source": [
        "await skillsnetwork.prepare(\"https://s3-api.us-geo.objectstorage.softlayer.net/cf-courses-data/CognitiveClass/DL0321EN/data/images/concrete_crack_images_for_classification.zip\", overwrite=True)"
      ],
      "execution_count": null
    },
    {
      "cell_type": "markdown",
      "metadata": {
        "id": "0914f36a-9028-4512-8919-6d63bfd6a354"
      },
      "source": [
        "## Load Images\n"
      ]
    },
    {
      "cell_type": "code",
      "metadata": {
        "id": "a1da1337-5a67-40ec-b96c-9b0d95aae74e"
      },
      "outputs": [],
      "source": [
        "negative_files = os.scandir('./Negative')\n",
        "negative_files"
      ],
      "execution_count": null
    },
    {
      "cell_type": "code",
      "metadata": {
        "id": "d3280884-f1ae-4567-8a7f-0dd86b1330d7"
      },
      "outputs": [],
      "source": [
        "file_name = next(negative_files)\n",
        "file_name"
      ],
      "execution_count": null
    },
    {
      "cell_type": "code",
      "metadata": {
        "id": "06afc0a5-db33-4efd-93ed-cfa9407675bc"
      },
      "outputs": [],
      "source": [
        "os.path.isfile(file_name)"
      ],
      "execution_count": null
    },
    {
      "cell_type": "code",
      "metadata": {
        "id": "60e83350-a1f6-4f7b-b9e5-bf7e135fad81"
      },
      "outputs": [],
      "source": [
        "image_name = str(file_name).split(\"'\")[1]\n",
        "image_name"
      ],
      "execution_count": null
    },
    {
      "cell_type": "code",
      "metadata": {
        "id": "5b52d27e-07f8-41d6-adaa-78a74ed01c02"
      },
      "outputs": [],
      "source": [
        "image_data = plt.imread('./Negative/{}'.format(image_name))\n",
        "image_data"
      ],
      "execution_count": null
    },
    {
      "cell_type": "code",
      "metadata": {
        "id": "28bd7507-f935-409a-90ab-f9fe5d427d6e"
      },
      "outputs": [],
      "source": [
        "plt.imshow(image_data)"
      ],
      "execution_count": null
    },
    {
      "cell_type": "code",
      "metadata": {
        "id": "22751735-495d-4ff4-b2d3-f86a58bd36b7"
      },
      "outputs": [],
      "source": [
        "negative_images = []\n",
        "for file_name in negative_files:\n",
        "    if os.path.isfile(file_name):\n",
        "        image_name = str(file_name).split(\"'\")[1]\n",
        "        image_data = plt.imread('./Negative/{}'.format(image_name))\n",
        "        negative_images.append(image_data)\n",
        "\n",
        "negative_images = np.array(negative_images)"
      ],
      "execution_count": null
    },
    {
      "cell_type": "code",
      "metadata": {
        "id": "3333bd84-5b97-4572-8505-140c72eea1df"
      },
      "outputs": [],
      "source": [
        "negative_images = os.listdir('./Negative')\n",
        "negative_images"
      ],
      "execution_count": null
    },
    {
      "cell_type": "code",
      "metadata": {
        "id": "ea1e8ce1-4c6e-4bd3-b405-c7251384db85"
      },
      "outputs": [],
      "source": [
        "negative_images.sort()\n",
        "negative_images"
      ],
      "execution_count": null
    },
    {
      "cell_type": "code",
      "metadata": {
        "id": "0fbd1357-a514-4e79-b002-a8760206b2f6"
      },
      "outputs": [],
      "source": [
        "image_data = Image.open('./Negative/{}'.format(negative_images[0]))"
      ],
      "execution_count": null
    },
    {
      "cell_type": "code",
      "metadata": {
        "id": "fb166537-9533-40a2-9c8b-7f8d44f9710b"
      },
      "outputs": [],
      "source": [
        "image_data"
      ],
      "execution_count": null
    },
    {
      "cell_type": "code",
      "metadata": {
        "id": "4788d1a6-b868-4733-bd0b-0d43be97d913"
      },
      "outputs": [],
      "source": [
        "plt.imshow(image_data)"
      ],
      "execution_count": null
    },
    {
      "cell_type": "code",
      "metadata": {
        "id": "ff7d7ed9-d1ef-4e85-8bde-1b98d83156d2"
      },
      "outputs": [],
      "source": [
        "negative_images_dir = ['./Negative/{}'.format(image) for image in negative_images]\n",
        "negative_images_dir"
      ],
      "execution_count": null
    }
  ],
  "metadata": {
    "kernelspec": {
      "display_name": "Python",
      "language": "python",
      "name": "conda-env-python-py"
    },
    "language_info": {
      "name": ""
    },
    "colab": {
      "provenance": []
    }
  },
  "nbformat": 4,
  "nbformat_minor": 0
}